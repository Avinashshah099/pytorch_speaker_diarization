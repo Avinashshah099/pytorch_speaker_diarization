{
 "cells": [
  {
   "cell_type": "code",
   "execution_count": 1,
   "metadata": {},
   "outputs": [],
   "source": [
    "from src.predict import PyTorchPredictor, OpenVINOPredictor"
   ]
  },
  {
   "cell_type": "markdown",
   "metadata": {},
   "source": [
    "### PyTorch"
   ]
  },
  {
   "cell_type": "code",
   "execution_count": 2,
   "metadata": {},
   "outputs": [],
   "source": [
    "p = PyTorchPredictor(\"model/weights_best.pth\", \"model/configs.pth\", chunk_dur=2)"
   ]
  },
  {
   "cell_type": "code",
   "execution_count": 3,
   "metadata": {},
   "outputs": [
    {
     "name": "stdout",
     "output_type": "stream",
     "text": [
      "CPU times: user 2.24 s, sys: 43.1 ms, total: 2.29 s\n",
      "Wall time: 1.65 s\n"
     ]
    }
   ],
   "source": [
    "%%time\n",
    "timestamp = p.predict(\"dataset/test/test.wav\")"
   ]
  },
  {
   "cell_type": "code",
   "execution_count": 4,
   "metadata": {},
   "outputs": [
    {
     "data": {
      "text/plain": [
       "[(0.2666875, 1.0669375), (1.133625, 4.1333125), (16.46675, 18.066625)]"
      ]
     },
     "execution_count": 4,
     "metadata": {},
     "output_type": "execute_result"
    }
   ],
   "source": [
    "timestamp[\"professor\"]"
   ]
  },
  {
   "cell_type": "code",
   "execution_count": 5,
   "metadata": {},
   "outputs": [
    {
     "data": {
      "text/plain": [
       "[(4.866875, 5.400375),\n",
       " (5.4670625, 5.9999375),\n",
       " (6.2, 9.8005),\n",
       " (10.1333125, 12.5334375),\n",
       " (12.9335625, 14.2666875),\n",
       " (14.9335625, 15.6004375),\n",
       " (16.1333125, 16.46675),\n",
       " (18.4000625, 19.00025),\n",
       " (19.400375, 20.8001875),\n",
       " (21.2003125, 23.4670625),\n",
       " (23.6004375, 27.3336875)]"
      ]
     },
     "execution_count": 5,
     "metadata": {},
     "output_type": "execute_result"
    }
   ],
   "source": [
    "timestamp[\"student\"]"
   ]
  },
  {
   "cell_type": "markdown",
   "metadata": {},
   "source": [
    "### OpenVINO (FP16)"
   ]
  },
  {
   "cell_type": "code",
   "execution_count": 6,
   "metadata": {},
   "outputs": [],
   "source": [
    "p = OpenVINOPredictor(\n",
    "    model_xml=\"model/speaker_diarization.xml\", \n",
    "    model_bin=\"model/speaker_diarization.bin\", \n",
    "    config_path=\"model/configs.pth\", \n",
    "    chunk_dur=2, \n",
    "    CPU_EXT=\"/opt/intel/openvino/deployment_tools/inference_engine/lib/intel64/libcpu_extension.dylib\"\n",
    ")"
   ]
  },
  {
   "cell_type": "code",
   "execution_count": 7,
   "metadata": {},
   "outputs": [
    {
     "name": "stdout",
     "output_type": "stream",
     "text": [
      "CPU times: user 1.97 s, sys: 94.7 ms, total: 2.07 s\n",
      "Wall time: 1.14 s\n"
     ]
    }
   ],
   "source": [
    "%%time\n",
    "timestamp = p.predict(\"dataset/test/test.wav\")"
   ]
  },
  {
   "cell_type": "code",
   "execution_count": 8,
   "metadata": {},
   "outputs": [
    {
     "data": {
      "text/plain": [
       "[(0.2666875, 1.0669375), (1.133625, 4.1333125), (16.46675, 18.066625)]"
      ]
     },
     "execution_count": 8,
     "metadata": {},
     "output_type": "execute_result"
    }
   ],
   "source": [
    "timestamp[\"professor\"]"
   ]
  },
  {
   "cell_type": "code",
   "execution_count": 9,
   "metadata": {},
   "outputs": [
    {
     "data": {
      "text/plain": [
       "[(4.866875, 5.400375),\n",
       " (5.4670625, 5.9999375),\n",
       " (6.2, 9.8005),\n",
       " (10.1333125, 12.5334375),\n",
       " (12.9335625, 14.2666875),\n",
       " (14.9335625, 15.6004375),\n",
       " (16.1333125, 16.46675),\n",
       " (18.4000625, 19.00025),\n",
       " (19.400375, 20.8001875),\n",
       " (21.2003125, 23.4670625),\n",
       " (23.6004375, 27.3336875)]"
      ]
     },
     "execution_count": 9,
     "metadata": {},
     "output_type": "execute_result"
    }
   ],
   "source": [
    "timestamp[\"student\"]"
   ]
  }
 ],
 "metadata": {
  "kernelspec": {
   "display_name": "Python 3",
   "language": "python",
   "name": "python3"
  },
  "language_info": {
   "codemirror_mode": {
    "name": "ipython",
    "version": 3
   },
   "file_extension": ".py",
   "mimetype": "text/x-python",
   "name": "python",
   "nbconvert_exporter": "python",
   "pygments_lexer": "ipython3",
   "version": "3.7.0"
  }
 },
 "nbformat": 4,
 "nbformat_minor": 2
}
